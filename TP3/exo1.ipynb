{
 "cells": [
  {
   "cell_type": "code",
   "execution_count": 1,
   "metadata": {},
   "outputs": [
    {
     "name": "stdout",
     "output_type": "stream",
     "text": [
      "[4.4408921e-16] [[1.]]\n"
     ]
    },
    {
     "data": {
      "text/plain": [
       "array([[ 6.],\n",
       "       [ 7.],\n",
       "       [ 8.],\n",
       "       [ 9.],\n",
       "       [10.]])"
      ]
     },
     "execution_count": 1,
     "metadata": {},
     "output_type": "execute_result"
    }
   ],
   "source": [
    "import numpy as np\n",
    "import matplotlib.pyplot as plot\n",
    "from sklearn.linear_model import LinearRegression\n",
    "\n",
    "numarray = np.array([[0, 0], [1, 1], [2, 2], [3, 3], [4, 4], [5, 5]])\n",
    "\n",
    "lr = LinearRegression()\n",
    "lr.fit(numarray[:, 0].reshape(-1, 1), numarray[:, 1].reshape(-1, 1))\n",
    "\n",
    "# printing coefficients\n",
    "print(lr.intercept_, lr.coef_)\n",
    "\n",
    "x_predict = np.array([6, 7, 8, 9, 10])\n",
    "\n",
    "y_predict = lr.predict(x_predict.reshape(-1, 1))\n",
    "y_predict"
   ]
  },
  {
   "cell_type": "code",
   "execution_count": 2,
   "metadata": {},
   "outputs": [
    {
     "name": "stdout",
     "output_type": "stream",
     "text": [
      "[1.] [[1.]]\n"
     ]
    },
    {
     "data": {
      "text/plain": [
       "array([[ 7.],\n",
       "       [ 8.],\n",
       "       [ 9.],\n",
       "       [10.],\n",
       "       [11.]])"
      ]
     },
     "execution_count": 2,
     "metadata": {},
     "output_type": "execute_result"
    }
   ],
   "source": [
    "import numpy as np\n",
    "import matplotlib.pyplot as plot\n",
    "from sklearn.linear_model import LinearRegression\n",
    "\n",
    "numarray = np.array([[0, 1], [1, 2], [2, 3], [3, 4], [4, 5], [5, 6]])\n",
    "\n",
    "lr = LinearRegression()\n",
    "lr.fit(numarray[:, 0].reshape(-1, 1), numarray[:, 1].reshape(-1, 1))\n",
    "\n",
    "# printing coefficients\n",
    "print(lr.intercept_, lr.coef_)\n",
    "\n",
    "x_predict = np.array([6, 7, 8, 9, 10])\n",
    "\n",
    "y_predict = lr.predict(x_predict.reshape(-1, 1))\n",
    "y_predict"
   ]
  },
  {
   "cell_type": "code",
   "execution_count": 3,
   "metadata": {},
   "outputs": [
    {
     "name": "stdout",
     "output_type": "stream",
     "text": [
      "[2.] [[1.]]\n"
     ]
    },
    {
     "data": {
      "text/plain": [
       "array([[ 8.],\n",
       "       [ 9.],\n",
       "       [10.],\n",
       "       [11.],\n",
       "       [12.]])"
      ]
     },
     "execution_count": 3,
     "metadata": {},
     "output_type": "execute_result"
    }
   ],
   "source": [
    "import numpy as np\n",
    "import matplotlib.pyplot as plot\n",
    "from sklearn.linear_model import LinearRegression\n",
    "\n",
    "numarray = np.array([[0, 2], [1, 3], [2, 4], [3, 5], [4, 6], [5, 7]])\n",
    "\n",
    "lr = LinearRegression()\n",
    "lr.fit(numarray[:, 0].reshape(-1, 1), numarray[:, 1].reshape(-1, 1))\n",
    "\n",
    "# printing coefficients\n",
    "print(lr.intercept_, lr.coef_)\n",
    "\n",
    "x_predict = np.array([6, 7, 8, 9, 10])\n",
    "\n",
    "y_predict = lr.predict(x_predict.reshape(-1, 1))\n",
    "y_predict"
   ]
  },
  {
   "cell_type": "code",
   "execution_count": 4,
   "metadata": {},
   "outputs": [
    {
     "data": {
      "text/plain": [
       "array([ 6, 11, 16, 12, 17, 22])"
      ]
     },
     "execution_count": 4,
     "metadata": {},
     "output_type": "execute_result"
    }
   ],
   "source": [
    "numarray1 = np.array([[0, 1], [1, 2], [2, 3], [3, 1], [4, 2], [5, 3]])\n",
    "numarray2 = np.array([[6], [11], [16], [12], [17], [22]])\n",
    "\n",
    "y = np.dot(numarray1, [2, 3]) + 3\n",
    "y"
   ]
  },
  {
   "cell_type": "code",
   "execution_count": 5,
   "metadata": {},
   "outputs": [
    {
     "name": "stdout",
     "output_type": "stream",
     "text": [
      "[3.] [[2. 3.]]\n"
     ]
    },
    {
     "data": {
      "text/plain": [
       "array([[15.],\n",
       "       [20.],\n",
       "       [22.],\n",
       "       [21.],\n",
       "       [23.]])"
      ]
     },
     "execution_count": 5,
     "metadata": {},
     "output_type": "execute_result"
    }
   ],
   "source": [
    "import numpy as np\n",
    "import matplotlib.pyplot as plot\n",
    "from sklearn.linear_model import LinearRegression\n",
    "\n",
    "y = numarray2\n",
    "\n",
    "lr = LinearRegression()\n",
    "lr.fit(numarray1, numarray2.reshape(-1, 1))\n",
    "\n",
    "# printing coefficients\n",
    "print(lr.intercept_, lr.coef_)\n",
    "\n",
    "x_predict = np.array([[6, 0], [7, 1], [8, 1], [9, 0], [10, 0]])\n",
    "\n",
    "y_predict = lr.predict(x_predict)\n",
    "y_predict"
   ]
  },
  {
   "cell_type": "code",
   "execution_count": 6,
   "metadata": {},
   "outputs": [
    {
     "name": "stdout",
     "output_type": "stream",
     "text": [
      "[-3.33333333] [[5.]]\n"
     ]
    },
    {
     "data": {
      "text/plain": [
       "array([[26.66666667],\n",
       "       [31.66666667],\n",
       "       [36.66666667],\n",
       "       [41.66666667],\n",
       "       [46.66666667]])"
      ]
     },
     "execution_count": 6,
     "metadata": {},
     "output_type": "execute_result"
    }
   ],
   "source": [
    "import numpy as np\n",
    "import matplotlib.pyplot as plot\n",
    "from sklearn.linear_model import LinearRegression\n",
    "\n",
    "numarray = np.array([[0, 0], [1, 1], [2, 4], [3, 9], [4, 16], [5, 25]])\n",
    "\n",
    "lr = LinearRegression()\n",
    "lr.fit(numarray[:, 0].reshape(-1, 1), numarray[:, 1].reshape(-1, 1))\n",
    "\n",
    "# printing coefficients\n",
    "print(lr.intercept_, lr.coef_)\n",
    "\n",
    "x_predict = np.array([6, 7, 8, 9, 10])\n",
    "\n",
    "y_predict = lr.predict(x_predict.reshape(-1, 1))\n",
    "y_predict"
   ]
  },
  {
   "cell_type": "code",
   "execution_count": 10,
   "metadata": {},
   "outputs": [
    {
     "name": "stdout",
     "output_type": "stream",
     "text": [
      "['1' 'x0' 'x0^2']\n",
      "[1.77635684e-15] [[ 0.0000000e+00 -8.8817842e-16  1.0000000e+00]]\n"
     ]
    },
    {
     "data": {
      "text/plain": [
       "array([[ 36.],\n",
       "       [ 49.],\n",
       "       [ 64.],\n",
       "       [ 81.],\n",
       "       [100.]])"
      ]
     },
     "execution_count": 10,
     "metadata": {},
     "output_type": "execute_result"
    }
   ],
   "source": [
    "import numpy as np\n",
    "import matplotlib.pyplot as plot\n",
    "from sklearn.linear_model import LinearRegression\n",
    "from sklearn.preprocessing import PolynomialFeatures\n",
    "\n",
    "numarray = np.array([[0, 0], [1, 1], [2, 4], [3, 9], [4, 16], [5, 25]])\n",
    "\n",
    "# using polynomial features\n",
    "pf = PolynomialFeatures(degree=2)\n",
    "x_poly = pf.fit_transform(numarray[:, 0].reshape(-1, 1))\n",
    "lr = LinearRegression()\n",
    "lr.fit(x_poly, numarray[:, 1].reshape(-1, 1))\n",
    "\n",
    "# printing coefficients\n",
    "print(pf.get_feature_names_out())\n",
    "print(lr.intercept_, lr.coef_)\n",
    "\n",
    "x_predict = np.array([6, 7, 8, 9, 10])\n",
    "\n",
    "y_predict = lr.predict(pf.fit_transform(x_predict.reshape(-1, 1)))\n",
    "y_predict"
   ]
  },
  {
   "cell_type": "code",
   "execution_count": 11,
   "metadata": {},
   "outputs": [
    {
     "name": "stdout",
     "output_type": "stream",
     "text": [
      "['1' 'x0' 'x0^2']\n",
      "[1.] [[0. 1. 1.]]\n"
     ]
    },
    {
     "data": {
      "text/plain": [
       "array([[ 43.],\n",
       "       [ 57.],\n",
       "       [ 73.],\n",
       "       [ 91.],\n",
       "       [111.]])"
      ]
     },
     "execution_count": 11,
     "metadata": {},
     "output_type": "execute_result"
    }
   ],
   "source": [
    "import numpy as np\n",
    "import matplotlib.pyplot as plot\n",
    "from sklearn.linear_model import LinearRegression\n",
    "from sklearn.preprocessing import PolynomialFeatures\n",
    "\n",
    "numarray = np.array([[0, 1], [1, 3], [2, 7], [3, 13], [4, 21], [5, 31]])\n",
    "\n",
    "# using polynomial features\n",
    "pf = PolynomialFeatures(degree=2)\n",
    "x_poly = pf.fit_transform(numarray[:, 0].reshape(-1, 1))\n",
    "lr = LinearRegression()\n",
    "lr.fit(x_poly, numarray[:, 1].reshape(-1, 1))\n",
    "\n",
    "# printing coefficients\n",
    "print(pf.get_feature_names_out())\n",
    "print(lr.intercept_, lr.coef_)\n",
    "\n",
    "x_predict = np.array([6, 7, 8, 9, 10])\n",
    "\n",
    "y_predict = lr.predict(pf.fit_transform(x_predict.reshape(-1, 1)))\n",
    "\n",
    "# features\n",
    "y_predict"
   ]
  },
  {
   "cell_type": "code",
   "execution_count": 12,
   "metadata": {},
   "outputs": [
    {
     "name": "stdout",
     "output_type": "stream",
     "text": [
      "['1' 'x0' 'x0^2' 'x0^3']\n",
      "[7.10542736e-15] [[ 0.00000000e+00  4.44089210e-15 -6.66133815e-16  1.00000000e+00]]\n"
     ]
    },
    {
     "data": {
      "text/plain": [
       "array([[ 216.],\n",
       "       [ 343.],\n",
       "       [ 512.],\n",
       "       [ 729.],\n",
       "       [1000.]])"
      ]
     },
     "execution_count": 12,
     "metadata": {},
     "output_type": "execute_result"
    }
   ],
   "source": [
    "import numpy as np\n",
    "import matplotlib.pyplot as plot\n",
    "from sklearn.linear_model import LinearRegression\n",
    "from sklearn.preprocessing import PolynomialFeatures\n",
    "\n",
    "numarray = np.array([[0, 0], [1, 1], [2, 8], [3, 27], [4, 64], [5, 125]])\n",
    "\n",
    "# using polynomial features\n",
    "pf = PolynomialFeatures(degree=3)\n",
    "x_poly = pf.fit_transform(numarray[:, 0].reshape(-1, 1))\n",
    "lr = LinearRegression()\n",
    "lr.fit(x_poly, numarray[:, 1].reshape(-1, 1))\n",
    "\n",
    "# printing coefficients\n",
    "print(pf.get_feature_names_out())\n",
    "print(lr.intercept_, lr.coef_)\n",
    "\n",
    "x_predict = np.array([6, 7, 8, 9, 10])\n",
    "\n",
    "y_predict = lr.predict(pf.fit_transform(x_predict.reshape(-1, 1)))\n",
    "y_predict"
   ]
  },
  {
   "cell_type": "code",
   "execution_count": 15,
   "metadata": {},
   "outputs": [
    {
     "data": {
      "text/plain": [
       "<Axes: xlabel='year', ylabel='population'>"
      ]
     },
     "execution_count": 15,
     "metadata": {},
     "output_type": "execute_result"
    },
    {
     "data": {
      "image/png": "[encoded data removed]",
      "text/plain": [
       "<Figure size 640x480 with 1 Axes>"
      ]
     },
     "metadata": {},
     "output_type": "display_data"
    }
   ],
   "source": [
    "import numpy as np\n",
    "import matplotlib.pyplot as plot\n",
    "import pandas as pd\n",
    "\n",
    "dataset = np.loadtxt(\n",
    "    \"data/population.csv\",\n",
    "    dtype={\"names\": (\"year\", \"population\"), \"formats\": (\"i4\", \"i\")},\n",
    "    skiprows=1,\n",
    "    delimiter=\",\",\n",
    "    encoding=\"UTF-8\",\n",
    ")\n",
    "\n",
    "df = pd.DataFrame(dataset)\n",
    "df.plot(x=\"year\", y=\"population\", kind=\"scatter\")"
   ]
  },
  {
   "cell_type": "markdown",
   "metadata": {},
   "source": [
    "Nous nous concentrerons sur les données à partir de 1960 (pourquoi ?). Notre objectif est d'utiliser des techniques de régression pour prédire la population. Mais nous ne savons pas comment vérifier. Donc, avec les données disponibles, nous créons deux catégories : les données de formation et les données de test.\n",
    "\n",
    "Nous continuons maintenant avec les données de population (de TP1 et TP2), que nous divisons en deux : les données d'entraînement et les données de test. Nous allons tracer les valeurs réelles de la population et les valeurs prédites.\n",
    "\n"
   ]
  },
  {
   "cell_type": "code",
   "execution_count": 17,
   "metadata": {},
   "outputs": [
    {
     "name": "stdout",
     "output_type": "stream",
     "text": [
      "[-5.86674085e+08] [[324065.22138837]]\n"
     ]
    },
    {
     "data": {
      "image/png": "[encoded data removed]",
      "text/plain": [
       "<Figure size 640x480 with 1 Axes>"
      ]
     },
     "metadata": {},
     "output_type": "display_data"
    }
   ],
   "source": [
    "import numpy as np\n",
    "import matplotlib.pyplot as plot\n",
    "import pandas as pd\n",
    "from sklearn.linear_model import LinearRegression\n",
    "\n",
    "dataset = np.loadtxt(\n",
    "    \"data/population.csv\",\n",
    "    dtype={\"names\": (\"year\", \"population\"), \"formats\": (\"i4\", \"i\")},\n",
    "    skiprows=1,\n",
    "    delimiter=\",\",\n",
    "    encoding=\"UTF-8\",\n",
    ")\n",
    "\n",
    "df = pd.DataFrame(dataset[4:])\n",
    "\n",
    "# training data\n",
    "x_train = df[\"year\"][:40].values.reshape(-1, 1)\n",
    "y_train = df[\"population\"][:40].values.reshape(-1, 1)\n",
    "\n",
    "# training\n",
    "lr = LinearRegression()\n",
    "lr.fit(x_train, y_train)\n",
    "\n",
    "# printing coefficients\n",
    "print(lr.intercept_, lr.coef_)\n",
    "\n",
    "# prediction\n",
    "x_predict = x_train = df[\"year\"][41:].values.reshape(-1, 1)\n",
    "y_actual = df[\"population\"][41:].values.reshape(-1, 1)\n",
    "y_predict = lr.predict(x_predict)\n",
    "\n",
    "plot.scatter(x_predict, y_actual)\n",
    "plot.plot(x_predict, y_predict, color=\"red\", linewidth=2)\n",
    "plot.show()"
   ]
  },
  {
   "cell_type": "code",
   "execution_count": 2,
   "metadata": {},
   "outputs": [
    {
     "name": "stdout",
     "output_type": "stream",
     "text": [
      "[-4.56454352e+08] [[258679.19850773]]\n"
     ]
    },
    {
     "data": {
      "image/png": "[encoded data removed]",
      "text/plain": [
       "<Figure size 640x480 with 1 Axes>"
      ]
     },
     "metadata": {},
     "output_type": "display_data"
    }
   ],
   "source": [
    "import numpy as np\n",
    "import matplotlib.pyplot as plot\n",
    "import pandas as pd\n",
    "from sklearn.linear_model import LinearRegression\n",
    "\n",
    "dataset = np.loadtxt(\n",
    "    \"data/population.csv\",\n",
    "    dtype={\"names\": (\"year\", \"population\"), \"formats\": (\"i4\", \"i\")},\n",
    "    skiprows=1,\n",
    "    delimiter=\",\",\n",
    "    encoding=\"UTF-8\",\n",
    ")\n",
    "\n",
    "df = pd.DataFrame(dataset)\n",
    "\n",
    "# training data\n",
    "x_train = df[\"year\"].values.reshape(-1, 1)\n",
    "y_train = df[\"population\"].values.reshape(-1, 1)\n",
    "\n",
    "# training\n",
    "lr = LinearRegression()\n",
    "lr.fit(x_train, y_train)\n",
    "\n",
    "# printing coefficients\n",
    "print(lr.intercept_, lr.coef_)\n",
    "\n",
    "# prediction\n",
    "x_predict = x_train = df[\"year\"][41:].values.reshape(-1, 1)\n",
    "y_actual = df[\"population\"][41:].values.reshape(-1, 1)\n",
    "y_predict = lr.predict(x_predict)\n",
    "\n",
    "plot.scatter(x_predict, y_actual)\n",
    "plot.plot(x_predict, y_predict, color=\"red\", linewidth=2)\n",
    "plot.show()"
   ]
  },
  {
   "cell_type": "markdown",
   "metadata": {},
   "source": [
    "On remarque que la régression linéaire fonctionne bien sous un sous-ensemble uniquement.\n",
    "Essayons maintenant avec des caractéristiques polynomiales (PolynomialFeatures) de degré 2."
   ]
  },
  {
   "cell_type": "code",
   "execution_count": 4,
   "metadata": {},
   "outputs": [
    {
     "name": "stdout",
     "output_type": "stream",
     "text": [
      "[-4.30491266e+09] [[ 0.00000000e+00  4.06776344e+06 -9.42279929e+02]]\n"
     ]
    },
    {
     "data": {
      "image/png": "[encoded data removed]",
      "text/plain": [
       "<Figure size 640x480 with 1 Axes>"
      ]
     },
     "metadata": {},
     "output_type": "display_data"
    }
   ],
   "source": [
    "import numpy as np\n",
    "import matplotlib.pyplot as plot\n",
    "import pandas as pd\n",
    "from sklearn.linear_model import LinearRegression\n",
    "from sklearn.preprocessing import PolynomialFeatures\n",
    "\n",
    "dataset = np.loadtxt(\n",
    "    \"data/population.csv\",\n",
    "    dtype={\"names\": (\"year\", \"population\"), \"formats\": (\"i4\", \"i\")},\n",
    "    skiprows=1,\n",
    "    delimiter=\",\",\n",
    "    encoding=\"UTF-8\",\n",
    ")\n",
    "\n",
    "df = pd.DataFrame(dataset[4:])\n",
    "\n",
    "# training data\n",
    "\n",
    "x_train = df[\"year\"][:50].values.reshape(-1, 1)\n",
    "y_train = df[\"population\"][:50].values.reshape(-1, 1)\n",
    "\n",
    "pf = PolynomialFeatures(degree=2)\n",
    "x_poly = pf.fit_transform(x_train)\n",
    "\n",
    "# training\n",
    "lr = LinearRegression()\n",
    "lr.fit(x_poly, y_train)\n",
    "\n",
    "# printing coefficients\n",
    "print(lr.intercept_, lr.coef_)\n",
    "\n",
    "# prediction\n",
    "x_predict = x_train = df[\"year\"][41:].values.reshape(-1, 1)\n",
    "y_actual = df[\"population\"][41:].values.reshape(-1, 1)\n",
    "y_predict = lr.predict(pf.fit_transform(x_predict))\n",
    "\n",
    "plot.scatter(x_predict, y_actual)\n",
    "plot.plot(x_predict, y_predict, color=\"red\", linewidth=2)\n",
    "plot.show()"
   ]
  },
  {
   "cell_type": "markdown",
   "metadata": {},
   "source": [
    "examinons l'ensemble des données maintenant avec cette régression polynomiale de degré 2."
   ]
  },
  {
   "cell_type": "code",
   "execution_count": 15,
   "metadata": {},
   "outputs": [
    {
     "name": "stdout",
     "output_type": "stream",
     "text": [
      "[7.53637479e+09] [[ 0.00000000e+00 -7.89980194e+06  2.08142727e+03]]\n"
     ]
    },
    {
     "data": {
      "image/png": "[encoded data removed]",
      "text/plain": [
       "<Figure size 640x480 with 1 Axes>"
      ]
     },
     "metadata": {},
     "output_type": "display_data"
    }
   ],
   "source": [
    "import numpy as np\n",
    "import matplotlib.pyplot as plot\n",
    "import pandas as pd\n",
    "from sklearn.linear_model import LinearRegression\n",
    "from sklearn.preprocessing import PolynomialFeatures\n",
    "\n",
    "dataset = np.loadtxt(\n",
    "    \"data/population.csv\",\n",
    "    dtype={\"names\": (\"year\", \"population\"), \"formats\": (\"i4\", \"i\")},\n",
    "    skiprows=1,\n",
    "    delimiter=\",\",\n",
    "    encoding=\"UTF-8\",\n",
    ")\n",
    "\n",
    "df = pd.DataFrame(dataset)\n",
    "\n",
    "# training data\n",
    "\n",
    "x_train = df[\"year\"][:40].values.reshape(-1, 1)\n",
    "y_train = df[\"population\"][:40].values.reshape(-1, 1)\n",
    "\n",
    "pf = PolynomialFeatures(degree=2)\n",
    "x_poly = pf.fit_transform(x_train)\n",
    "\n",
    "# training\n",
    "lr = LinearRegression()\n",
    "lr.fit(x_poly, y_train)\n",
    "\n",
    "# printing coefficients\n",
    "print(lr.intercept_, lr.coef_)\n",
    "\n",
    "# prediction\n",
    "x_predict = x_train = df[\"year\"][41:].values.reshape(-1, 1)\n",
    "\n",
    "# Let's add some more years\n",
    "x_predict = np.append(range(1900, 1959), x_predict)\n",
    "x_predict = x_predict.reshape(-1, 1)\n",
    "\n",
    "y_actual = df[\"population\"][41:].values.reshape(-1, 1)\n",
    "y_predict = lr.predict(pf.fit_transform(x_predict))\n",
    "\n",
    "plot.scatter(df[\"year\"], df[\"population\"])\n",
    "plot.plot(x_predict, y_predict, color=\"red\", linewidth=2)\n",
    "plot.show()"
   ]
  }
 ],
 "metadata": {
  "kernelspec": {
   "display_name": "Python 3",
   "language": "python",
   "name": "python3"
  },
  "language_info": {
   "codemirror_mode": {
    "name": "ipython",
    "version": 3
   },
   "file_extension": ".py",
   "mimetype": "text/x-python",
   "name": "python",
   "nbconvert_exporter": "python",
   "pygments_lexer": "ipython3",
   "version": "3.11.3"
  }
 },
 "nbformat": 4,
 "nbformat_minor": 2
}

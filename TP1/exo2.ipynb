{
 "cells": [
  {
   "cell_type": "code",
   "execution_count": 2,
   "metadata": {},
   "outputs": [
    {
     "name": "stdout",
     "output_type": "stream",
     "text": [
      "[('ENIAC coding system', 1943) ('ENIAC Short Code', 1946)\n",
      " ('Von Neumann and Goldstine graphing system', 1946)\n",
      " ('ARC Assembly', 1947) ('Plankalkül', 1948) ('CPC Coding scheme', 1948)\n",
      " ('Curry notation system', 1948) ('Short Code', 1949)\n",
      " ('assembly language', 1949) ('Short Code', 1950) ('G-code', 1950)\n",
      " ('Birkbeck Assembler', 1950) ('Superplan', 1951) ('ALGAE', 1951)\n",
      " ('Intermediate Programming Language', 1951)\n",
      " ('Regional Assembly Language', 1951)\n",
      " ('Boehm unnamed coding system', 1951) ('Klammerausdrücke', 1951)\n",
      " ('OMNIBAC Symbolic Assembler', 1951) ('Stanislaus', 1951)\n",
      " ('Whirlwind assembler', 1951) ('Rochester assembler', 1951)\n",
      " ('Sort Merge Generator', 1951) ('autocode', 1952) ('A-0 System', 1952)\n",
      " ('Editing Generator', 1952) ('COMPOOL', 1952) ('Speedcoding', 1953)\n",
      " ('READ/PRINT', 1953) ('Fortran', 1954) ('ARITH-MATIC', 1954)\n",
      " ('autocode', 1954) ('Laning and Zierler system', 1954)\n",
      " ('MATH-MATIC', 1954) ('MATRIX MATH', 1954) ('FLOW-MATIC', 1955)\n",
      " ('PACT', 1955) ('BACAIC', 1955) ('Freiburger Code', 1955)\n",
      " ('Sequentielle Formelübersetzung', 1955) ('Internal Translator', 1955)\n",
      " ('PRINT', 1955) ('Information Processing Language', 1956)\n",
      " ('FORTRAN for the IBM 704', 1956) ('Fortran', 1957) ('COMTRAN', 1957)\n",
      " ('GEORGE', 1957) ('UNICODE', 1957) ('ALGOL 58', 1958) ('Lisp', 1958)\n",
      " ('ALGOL', 1958) ('FORTRAN III', 1958) ('FORTRAN II', 1958)\n",
      " ('JOVIAL', 1959) ('TRAC', 1959) ('COBOL', 1959) ('MAD', 1959)\n",
      " ('Lisp', 1959) ('FACT', 1959) ('COBOL', 1960) ('ALCOR', 1960)\n",
      " ('ALGOL 60', 1960) ('FORTRAN IV', 1961) ('TECO', 1962) ('SNOBOL', 1962)\n",
      " ('APL', 1962) ('Simula', 1962) ('CORC', 1962) ('CPL', 1963)\n",
      " ('JOSS', 1963) ('P′′', 1964) ('Report Program Generator', 1964)\n",
      " ('TRAC', 1964) ('BASIC', 1964) ('COWSEL', 1964) ('MARK IV', 1964)\n",
      " ('MIMIC', 1964) ('PL/I', 1964) ('Speakeasy', 1964) ('IBM RPG II', 1965)\n",
      " ('Atlas Autocode', 1965) ('TELCOMP', 1965) ('Euler', 1966)\n",
      " ('ISWIM', 1966) ('ALGOL W', 1966)\n",
      " ('Massachusetts General Hospital Utility Multi-Programming System', 1966)\n",
      " ('JOSS', 1966) ('Coral 66', 1966) ('BCPL', 1966) ('APL', 1966)\n",
      " ('FORTRAN 66', 1966)\n",
      " ('Massachusetts General Hospital Utility Multi-Programming System', 1967)\n",
      " ('Hop', 1967) ('XPL', 1967) ('Interlisp', 1967) ('BCPL', 1967)\n",
      " ('Simula', 1967) ('Space Programming Language', 1967) ('PILOT', 1968)\n",
      " ('ALGOL 68', 1968)]\n"
     ]
    }
   ],
   "source": [
    "import numpy as np\n",
    "\n",
    "dataset = np.loadtxt(\n",
    "    \"data/pl.csv\",  # Remplacez cette valeur par le chemin d'accès de votre fichier CSV.\n",
    "    dtype={\"names\": (\"name\", \"year\"), \"formats\": (\"U100\", \"i4\")},\n",
    "    skiprows=1,  # passez la première ligne, puisque c'est l'en-tête\n",
    "    delimiter=\",\",  # le séparateur est une virgule puisqu'il s'agit d'un fichier CSV.\n",
    "    encoding=\"UTF-8\",  # encodage UTF-8\n",
    ")\n",
    "print(dataset)"
   ]
  },
  {
   "cell_type": "code",
   "execution_count": 5,
   "metadata": {},
   "outputs": [
    {
     "name": "stdout",
     "output_type": "stream",
     "text": [
      "[('ENIAC coding system', 1943) ('ENIAC Short Code', 1946)\n",
      " ('Von Neumann and Goldstine graphing system', 1946)\n",
      " ('ARC Assembly', 1947) ('Plankalkül', 1948) ('CPC Coding scheme', 1948)\n",
      " ('Curry notation system', 1948) ('Short Code', 1949)\n",
      " ('assembly language', 1949) ('Short Code', 1950)\n",
      " ('Birkbeck Assembler', 1950) ('G-code', 1950) ('Superplan', 1951)\n",
      " ('ALGAE', 1951) ('Intermediate Programming Language', 1951)\n",
      " ('Regional Assembly Language', 1951)\n",
      " ('Boehm unnamed coding system', 1951) ('Klammerausdrücke', 1951)\n",
      " ('OMNIBAC Symbolic Assembler', 1951) ('Stanislaus', 1951)\n",
      " ('Whirlwind assembler', 1951) ('Rochester assembler', 1951)\n",
      " ('Sort Merge Generator', 1951) ('Editing Generator', 1952)\n",
      " ('COMPOOL', 1952) ('autocode', 1952) ('A-0 System', 1952)\n",
      " ('READ/PRINT', 1953) ('Speedcoding', 1953) ('Fortran', 1954)\n",
      " ('MATRIX MATH', 1954) ('autocode', 1954) ('ARITH-MATIC', 1954)\n",
      " ('Laning and Zierler system', 1954) ('MATH-MATIC', 1954)\n",
      " ('FLOW-MATIC', 1955) ('BACAIC', 1955) ('Freiburger Code', 1955)\n",
      " ('Sequentielle Formelübersetzung', 1955) ('Internal Translator', 1955)\n",
      " ('PRINT', 1955) ('PACT', 1955) ('Information Processing Language', 1956)\n",
      " ('FORTRAN for the IBM 704', 1956) ('Fortran', 1957) ('UNICODE', 1957)\n",
      " ('COMTRAN', 1957) ('GEORGE', 1957) ('ALGOL 58', 1958) ('Lisp', 1958)\n",
      " ('FORTRAN III', 1958) ('FORTRAN II', 1958) ('ALGOL', 1958)\n",
      " ('JOVIAL', 1959) ('TRAC', 1959) ('COBOL', 1959) ('Lisp', 1959)\n",
      " ('MAD', 1959) ('FACT', 1959) ('COBOL', 1960) ('COBOL', 1960)\n",
      " ('ALGOL 60', 1960) ('ALCOR', 1960) ('FORTRAN IV', 1961) ('SNOBOL', 1962)\n",
      " ('TECO', 1962) ('Simula', 1962) ('APL', 1962) ('CORC', 1962)\n",
      " ('CPL', 1963) ('JOSS', 1963) ('P′′', 1964)\n",
      " ('Report Program Generator', 1964) ('TRAC', 1964) ('BASIC', 1964)\n",
      " ('COWSEL', 1964) ('PL/I', 1964) ('MARK IV', 1964) ('MIMIC', 1964)\n",
      " ('Speakeasy', 1964) ('IBM RPG II', 1965) ('Atlas Autocode', 1965)\n",
      " ('TELCOMP', 1965) ('Euler', 1966) ('ISWIM', 1966) ('ALGOL W', 1966)\n",
      " ('JOSS', 1966)\n",
      " ('Massachusetts General Hospital Utility Multi-Programming System', 1966)\n",
      " ('BCPL', 1966) ('Coral 66', 1966) ('FORTRAN 66', 1966) ('APL', 1966)\n",
      " ('Hop', 1967)\n",
      " ('Massachusetts General Hospital Utility Multi-Programming System', 1967)\n",
      " ('Space Programming Language', 1967) ('BCPL', 1967) ('Interlisp', 1967)\n",
      " ('Simula', 1967) ('XPL', 1967) ('PILOT', 1968)]\n"
     ]
    }
   ],
   "source": [
    "import numpy as np\n",
    "\n",
    "dataset = np.loadtxt(\n",
    "    \"data/pl.tsv\",  # Remplacez cette valeur par le chemin d'accès de votre fichier TSV.\n",
    "    dtype={\"names\": (\"name\", \"year\"), \"formats\": (\"U100\", \"i4\")},\n",
    "    skiprows=1,\n",
    "    delimiter=\"\\t\",  # le séparateur est '\\t' puisqu'il s'agit d'un fichier TSV.\n",
    "    encoding=\"UTF-8\",\n",
    ")\n",
    "print(dataset)"
   ]
  },
  {
   "cell_type": "code",
   "execution_count": 4,
   "metadata": {},
   "outputs": [
    {
     "name": "stdout",
     "output_type": "stream",
     "text": [
      "100\n"
     ]
    }
   ],
   "source": [
    "print(len(dataset))"
   ]
  }
 ],
 "metadata": {
  "kernelspec": {
   "display_name": "Python 3",
   "language": "python",
   "name": "python3"
  },
  "language_info": {
   "codemirror_mode": {
    "name": "ipython",
    "version": 3
   },
   "file_extension": ".py",
   "mimetype": "text/x-python",
   "name": "python",
   "nbconvert_exporter": "python",
   "pygments_lexer": "ipython3",
   "version": "3.11.3"
  }
 },
 "nbformat": 4,
 "nbformat_minor": 2
}

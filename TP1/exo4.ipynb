{
 "cells": [
  {
   "cell_type": "code",
   "execution_count": 8,
   "metadata": {},
   "outputs": [
    {
     "name": "stdout",
     "output_type": "stream",
     "text": [
      "    year                              languageLabel\n",
      "0   1942                                 Plankalkül\n",
      "1   1943                        ENIAC coding system\n",
      "2   1946                           ENIAC Short Code\n",
      "3   1946  Von Neumann and Goldstine graphing system\n",
      "4   1948                          CPC Coding scheme\n",
      "..   ...                                        ...\n",
      "95  1967                                       Logo\n",
      "96  1967                 Space Programming Language\n",
      "97  1968                                      Refal\n",
      "98  1968                                      FOCAL\n",
      "99  1968                                       CICS\n",
      "\n",
      "[100 rows x 2 columns]\n",
      "      languageLabel\n",
      "year               \n",
      "1942              1\n",
      "1943              1\n",
      "1946              2\n",
      "1948              2\n",
      "1949              1\n",
      "1950              3\n",
      "1951             11\n",
      "1952              4\n",
      "1953              2\n",
      "1954              4\n",
      "1955              8\n",
      "1956              1\n",
      "1957              6\n",
      "1958              2\n",
      "1959              4\n",
      "1960              7\n",
      "1961              1\n",
      "1962              5\n",
      "1963              3\n",
      "1964             11\n",
      "1965              5\n",
      "1966              7\n",
      "1967              6\n",
      "1968              3\n"
     ]
    }
   ],
   "source": [
    "import urllib.request\n",
    "import json\n",
    "import pandas as pd\n",
    "\n",
    "url = \"https://query.wikidata.org/sparql?query=SELECT%20%3FlanguageLabel%20(YEAR(%3Finception)%20as%20%3Fyear)%0AWHERE%0A%7B%0A%20%20%23instances%20of%20programming%20language%0A%20%20%3Flanguage%20wdt%3AP31%20wd%3AQ9143%3B%0A%20%20%20%20%20%20%20%20%20%20%20%20wdt%3AP571%20%3Finception%3B%0A%20%20%20%20%20%20%20%20%20%20%20%20rdfs%3Alabel%20%3FlanguageLabel.%0A%20%20FILTER(lang(%3FlanguageLabel)%20%3D%20%22en%22)%0A%7D%0AORDER%20BY%20%3Fyear%0ALIMIT%20100&format=json\"\n",
    "response = urllib.request.urlopen(url)\n",
    "responsedata = json.loads(response.read().decode(\"utf-8\"))\n",
    "\n",
    "array = []\n",
    "\n",
    "for data in responsedata[\"results\"][\"bindings\"]:\n",
    "    array.append([data[\"year\"][\"value\"], data[\"languageLabel\"][\"value\"]])\n",
    "\n",
    "dataframe = pd.DataFrame(array, columns=[\"year\", \"languageLabel\"])\n",
    "dataframe = dataframe.astype(dtype={\"year\": \"<i4\", \"languageLabel\": \"<U200\"})\n",
    "print(dataframe)\n",
    "# print(dataframe[\"year\"].describe())\n",
    "# print(dataframe[\"languageLabel\"].describe())\n",
    "# print(dataframe.dtypes)\n",
    "# grouped = dataframe.groupby(\"year\").count()\n",
    "print(grouped)"
   ]
  }
 ],
 "metadata": {
  "kernelspec": {
   "display_name": "Python 3",
   "language": "python",
   "name": "python3"
  },
  "language_info": {
   "codemirror_mode": {
    "name": "ipython",
    "version": 3
   },
   "file_extension": ".py",
   "mimetype": "text/x-python",
   "name": "python",
   "nbconvert_exporter": "python",
   "pygments_lexer": "ipython3",
   "version": "3.11.3"
  }
 },
 "nbformat": 4,
 "nbformat_minor": 2
}

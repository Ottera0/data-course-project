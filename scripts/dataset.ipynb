{
 "cells": [
  {
   "cell_type": "markdown",
   "metadata": {},
   "source": [
    "### Projet"
   ]
  },
  {
   "cell_type": "code",
   "execution_count": 1,
   "metadata": {},
   "outputs": [
    {
     "name": "stdout",
     "output_type": "stream",
     "text": [
      "Note: you may need to restart the kernel to use updated packages.Requirement already satisfied: SPARQLWrapper in c:\\users\\yoann\\appdata\\local\\programs\\python\\python311\\lib\\site-packages (2.0.0)\n",
      "Requirement already satisfied: rdflib>=6.1.1 in c:\\users\\yoann\\appdata\\local\\programs\\python\\python311\\lib\\site-packages (from SPARQLWrapper) (7.0.0)\n",
      "Requirement already satisfied: isodate<0.7.0,>=0.6.0 in c:\\users\\yoann\\appdata\\local\\programs\\python\\python311\\lib\\site-packages (from rdflib>=6.1.1->SPARQLWrapper) (0.6.1)\n",
      "Requirement already satisfied: pyparsing<4,>=2.1.0 in c:\\users\\yoann\\appdata\\local\\programs\\python\\python311\\lib\\site-packages (from rdflib>=6.1.1->SPARQLWrapper) (3.0.9)\n",
      "Requirement already satisfied: six in c:\\users\\yoann\\appdata\\local\\programs\\python\\python311\\lib\\site-packages (from isodate<0.7.0,>=0.6.0->rdflib>=6.1.1->SPARQLWrapper) (1.16.0)\n",
      "\n"
     ]
    },
    {
     "name": "stderr",
     "output_type": "stream",
     "text": [
      "\n",
      "[notice] A new release of pip available: 22.3.1 -> 24.0\n",
      "[notice] To update, run: python.exe -m pip install --upgrade pip\n"
     ]
    }
   ],
   "source": [
    "pip install SPARQLWrapper"
   ]
  },
  {
   "cell_type": "code",
   "execution_count": 2,
   "metadata": {},
   "outputs": [],
   "source": [
    "from SPARQLWrapper import SPARQLWrapper, JSON\n",
    "\n",
    "def getSPARQLQuery():\n",
    "    sparql_endpoint = \"https://query.wikidata.org/sparql\"\n",
    "    sparql = SPARQLWrapper(sparql_endpoint)\n",
    "    sparql.setQuery(\"\"\"\n",
    "    SELECT ?item ?itemLabel ?image {\n",
    "    ?item wdt:P31 wd:Q144;  \n",
    "            wdt:P18 ?image.  \n",
    "    SERVICE wikibase:label { bd:serviceParam wikibase:language \"fr\". }\n",
    "    }\"\"\")\n",
    "\n",
    "    sparql.setReturnFormat(JSON)\n",
    "    res = sparql.query().convert()\n",
    "\n",
    "    dog_array = []\n",
    "    for result in res[\"results\"][\"bindings\"]:\n",
    "        dog_array.append(tuple((\n",
    "            result[\"itemLabel\"][\"value\"],\n",
    "            result[\"image\"][\"value\"])\n",
    "        ))\n",
    "    return dog_array\n",
    "\n",
    "array = getSPARQLQuery()"
   ]
  },
  {
   "cell_type": "code",
   "execution_count": 3,
   "metadata": {},
   "outputs": [
    {
     "name": "stdout",
     "output_type": "stream",
     "text": [
      "               dog_name                                              image\n",
      "0    Sallie Ann Jarrett  http://commons.wikimedia.org/wiki/Special:File...\n",
      "1             Q20818039  http://commons.wikimedia.org/wiki/Special:File...\n",
      "2             Q21002371  http://commons.wikimedia.org/wiki/Special:File...\n",
      "3             Q21978595  http://commons.wikimedia.org/wiki/Special:File...\n",
      "4                Kabosu  http://commons.wikimedia.org/wiki/Special:File...\n",
      "..                  ...                                                ...\n",
      "150     Primley Sceptre  http://commons.wikimedia.org/wiki/Special:File...\n",
      "151          Q121549125  http://commons.wikimedia.org/wiki/Special:File...\n",
      "152          Q123588410  http://commons.wikimedia.org/wiki/Special:File...\n",
      "153                 Pep  http://commons.wikimedia.org/wiki/Special:File...\n",
      "154               Messi  http://commons.wikimedia.org/wiki/Special:File...\n",
      "\n",
      "[155 rows x 2 columns]\n"
     ]
    },
    {
     "name": "stderr",
     "output_type": "stream",
     "text": [
      "C:\\Users\\yoann\\AppData\\Local\\Temp\\ipykernel_16648\\3611997045.py:1: DeprecationWarning: \n",
      "Pyarrow will become a required dependency of pandas in the next major release of pandas (pandas 3.0),\n",
      "(to allow more performant data types, such as the Arrow string type, and better interoperability with other libraries)\n",
      "but was not found to be installed on your system.\n",
      "If this would cause problems for you,\n",
      "please provide us feedback at https://github.com/pandas-dev/pandas/issues/54466\n",
      "        \n",
      "  import pandas as pd\n"
     ]
    }
   ],
   "source": [
    "import pandas as pd\n",
    "\n",
    "dataframe = pd.DataFrame(array, columns=[\"dog_name\", \"image\"])\n",
    "dataframe = dataframe.astype(\n",
    "    dtype={\"dog_name\": \"<U200\", \"image\" : \"<U200\"}\n",
    ")\n",
    "dataframe[\"image\"] = dataframe[\"image\"].str.ljust(100)\n",
    "print(dataframe)"
   ]
  },
  {
   "cell_type": "code",
   "execution_count": 30,
   "metadata": {},
   "outputs": [
    {
     "name": "stdout",
     "output_type": "stream",
     "text": [
      "http://commons.wikimedia.org/wiki/Special:FilePath/Sallie%20Ann%20Jarrett%2C%20Civil%20War%20mascot.jpg\n",
      "Image téléchargée avec succès : http://commons.wikimedia.org/wiki/Special:FilePath/Sallie%20Ann%20Jarrett%2C%20Civil%20War%20mascot.jpg\n",
      "http://commons.wikimedia.org/wiki/Special:FilePath/Tuna%20Melts%20My%20Heart.jpg                    \n",
      "Image téléchargée avec succès : http://commons.wikimedia.org/wiki/Special:FilePath/Tuna%20Melts%20My%20Heart.jpg                    \n",
      "http://commons.wikimedia.org/wiki/Special:FilePath/Doug%20the%20Pug%20NYC.jpg                       \n",
      "Image téléchargée avec succès : http://commons.wikimedia.org/wiki/Special:FilePath/Doug%20the%20Pug%20NYC.jpg                       \n",
      "http://commons.wikimedia.org/wiki/Special:FilePath/Teddy%2C%20dog%20in%20silent%20film%20comedies%20%28SAYRE%209685%29.jpg\n",
      "Image téléchargée avec succès : http://commons.wikimedia.org/wiki/Special:FilePath/Teddy%2C%20dog%20in%20silent%20film%20comedies%20%28SAYRE%209685%29.jpg\n",
      "http://commons.wikimedia.org/wiki/Special:FilePath/Kabosu%20and%20Atsuko%20Sato%202023-11-02%20%281%29.jpg\n",
      "Image téléchargée avec succès : http://commons.wikimedia.org/wiki/Special:FilePath/Kabosu%20and%20Atsuko%20Sato%202023-11-02%20%281%29.jpg\n",
      "http://commons.wikimedia.org/wiki/Special:FilePath/Moudouken%20aroma.jpg                            \n",
      "Image téléchargée avec succès : http://commons.wikimedia.org/wiki/Special:FilePath/Moudouken%20aroma.jpg                            \n",
      "http://commons.wikimedia.org/wiki/Special:FilePath/Rob%20Roy%20%28dog%29.jpg                        \n",
      "Image téléchargée avec succès : http://commons.wikimedia.org/wiki/Special:FilePath/Rob%20Roy%20%28dog%29.jpg                        \n",
      "http://commons.wikimedia.org/wiki/Special:FilePath/Belgium-6015%20-%20Most%20Photographed%20Dog%20in%20Burges%20%2813902076955%29.jpg\n",
      "Image téléchargée avec succès : http://commons.wikimedia.org/wiki/Special:FilePath/Belgium-6015%20-%20Most%20Photographed%20Dog%20in%20Burges%20%2813902076955%29.jpg\n",
      "http://commons.wikimedia.org/wiki/Special:FilePath/Vladimir%20Putin%20and%20Yume%20%282016-12-13%29%2001.jpg\n",
      "Image téléchargée avec succès : http://commons.wikimedia.org/wiki/Special:FilePath/Vladimir%20Putin%20and%20Yume%20%282016-12-13%29%2001.jpg\n",
      "http://commons.wikimedia.org/wiki/Special:FilePath/Shibainu%20Maru.jpg                              \n",
      "Image téléchargée avec succès : http://commons.wikimedia.org/wiki/Special:FilePath/Shibainu%20Maru.jpg                              \n",
      "http://commons.wikimedia.org/wiki/Special:FilePath/Dion%20and%20Gobi.jpg                            \n",
      "Image téléchargée avec succès : http://commons.wikimedia.org/wiki/Special:FilePath/Dion%20and%20Gobi.jpg                            \n",
      "http://commons.wikimedia.org/wiki/Special:FilePath/Pecas%20en%20Collado%20Villalba.jpg              \n",
      "Image téléchargée avec succès : http://commons.wikimedia.org/wiki/Special:FilePath/Pecas%20en%20Collado%20Villalba.jpg              \n",
      "http://commons.wikimedia.org/wiki/Special:FilePath/Willie-Patton-LIFE-1944.jpg                      \n",
      "Image téléchargée avec succès : http://commons.wikimedia.org/wiki/Special:FilePath/Willie-Patton-LIFE-1944.jpg                      \n",
      "http://commons.wikimedia.org/wiki/Special:FilePath/William%20Hogarth%20self-portrait%201745%20Tate%20Britain%20Detail%20Pug.jpg\n",
      "Image téléchargée avec succès : http://commons.wikimedia.org/wiki/Special:FilePath/William%20Hogarth%20self-portrait%201745%20Tate%20Britain%20Detail%20Pug.jpg\n",
      "http://commons.wikimedia.org/wiki/Special:FilePath/Taro%20and%20Dr.%20H.%20Abe.jpg                  \n",
      "Image téléchargée avec succès : http://commons.wikimedia.org/wiki/Special:FilePath/Taro%20and%20Dr.%20H.%20Abe.jpg                  \n",
      "http://commons.wikimedia.org/wiki/Special:FilePath/Sakhalin%20Husky%20Jiro.JPG                      \n",
      "Image téléchargée avec succès : http://commons.wikimedia.org/wiki/Special:FilePath/Sakhalin%20Husky%20Jiro.JPG                      \n",
      "http://commons.wikimedia.org/wiki/Special:FilePath/Help%20dog.jpg                                   \n",
      "Image téléchargée avec succès : http://commons.wikimedia.org/wiki/Special:FilePath/Help%20dog.jpg                                   \n",
      "http://commons.wikimedia.org/wiki/Special:FilePath/Bardo%20National%20Museum%20attack%20Memorial%20Mosaic%2001.jpg\n",
      "Image téléchargée avec succès : http://commons.wikimedia.org/wiki/Special:FilePath/Bardo%20National%20Museum%20attack%20Memorial%20Mosaic%2001.jpg\n",
      "http://commons.wikimedia.org/wiki/Special:FilePath/Raigad%20Sivaji%27s%20Waghya%20Samadhi%2001.JPG  \n",
      "Image téléchargée avec succès : http://commons.wikimedia.org/wiki/Special:FilePath/Raigad%20Sivaji%27s%20Waghya%20Samadhi%2001.JPG  \n",
      "http://commons.wikimedia.org/wiki/Special:FilePath/Sculpture%20of%20Brave%20Dog%20Bunchan%20-%20Otaru%20-%20Hokkaido%20-%20Japan%20%2847984518556%29.jpg\n",
      "Image téléchargée avec succès : http://commons.wikimedia.org/wiki/Special:FilePath/Sculpture%20of%20Brave%20Dog%20Bunchan%20-%20Otaru%20-%20Hokkaido%20-%20Japan%20%2847984518556%29.jpg\n",
      "http://commons.wikimedia.org/wiki/Special:FilePath/Lampo%2C%20the%20traveling%20dog%20%281%29.jpg   \n",
      "Image téléchargée avec succès : http://commons.wikimedia.org/wiki/Special:FilePath/Lampo%2C%20the%20traveling%20dog%20%281%29.jpg   \n",
      "http://commons.wikimedia.org/wiki/Special:FilePath/Tinkerbelle%20the%20Dog.png                      \n",
      "Image téléchargée avec succès : http://commons.wikimedia.org/wiki/Special:FilePath/Tinkerbelle%20the%20Dog.png                      \n",
      "http://commons.wikimedia.org/wiki/Special:FilePath/Frida%2C%20perra%20de%20rescate%20de%20la%20marina.jpg\n",
      "Image téléchargée avec succès : http://commons.wikimedia.org/wiki/Special:FilePath/Frida%2C%20perra%20de%20rescate%20de%20la%20marina.jpg\n",
      "http://commons.wikimedia.org/wiki/Special:FilePath/Izzy-117.jpg                                     \n",
      "Image téléchargée avec succès : http://commons.wikimedia.org/wiki/Special:FilePath/Izzy-117.jpg                                     \n",
      "http://commons.wikimedia.org/wiki/Special:FilePath/Perrovaca%20UNMSM.jpg                            \n",
      "Image téléchargée avec succès : http://commons.wikimedia.org/wiki/Special:FilePath/Perrovaca%20UNMSM.jpg                            \n",
      "http://commons.wikimedia.org/wiki/Special:FilePath/Nelson-Woss.jpg                                  \n",
      "Image téléchargée avec succès : http://commons.wikimedia.org/wiki/Special:FilePath/Nelson-Woss.jpg                                  \n",
      "http://commons.wikimedia.org/wiki/Special:FilePath/%D0%92%D0%B8%D0%BA%D0%B8-%D1%8D%D0%BA%D1%81%D0%BA%D1%83%D1%80%D1%81%D0%B8%D1%8F%20%D0%BF%D0%BE%20%D0%9F%D1%83%D1%88%D0%BA%D0%B8%D0%BD%D1%83%2010%20%D0%B0%D0%B2%D0%B3%D1%83%D1%81%D1%82%D0%B0%202019%20%284%29.jpg\n",
      "Image téléchargée avec succès : http://commons.wikimedia.org/wiki/Special:FilePath/%D0%92%D0%B8%D0%BA%D0%B8-%D1%8D%D0%BA%D1%81%D0%BA%D1%83%D1%80%D1%81%D0%B8%D1%8F%20%D0%BF%D0%BE%20%D0%9F%D1%83%D1%88%D0%BA%D0%B8%D0%BD%D1%83%2010%20%D0%B0%D0%B2%D0%B3%D1%83%D1%81%D1%82%D0%B0%202019%20%284%29.jpg\n",
      "http://commons.wikimedia.org/wiki/Special:FilePath/Shinz%C5%8D%20Abe%20and%20Alina%20Zagitova%20%282018-05-26%29.jpg\n",
      "Image téléchargée avec succès : http://commons.wikimedia.org/wiki/Special:FilePath/Shinz%C5%8D%20Abe%20and%20Alina%20Zagitova%20%282018-05-26%29.jpg\n",
      "http://commons.wikimedia.org/wiki/Special:FilePath/Negro%20Matapacos%2C%20Plaza%20Brasil%2C%20Santiago%2020200128%2008.jpg\n",
      "Image téléchargée avec succès : http://commons.wikimedia.org/wiki/Special:FilePath/Negro%20Matapacos%2C%20Plaza%20Brasil%2C%20Santiago%2020200128%2008.jpg\n",
      "http://commons.wikimedia.org/wiki/Special:FilePath/Isaac%20Newton%20laboratory%20fire.jpg           \n",
      "Image téléchargée avec succès : http://commons.wikimedia.org/wiki/Special:FilePath/Isaac%20Newton%20laboratory%20fire.jpg           \n",
      "http://commons.wikimedia.org/wiki/Special:FilePath/%EC%98%A4%EC%88%98%EC%9D%98%EA%B2%AC%20%282%29.jpg\n",
      "Image téléchargée avec succès : http://commons.wikimedia.org/wiki/Special:FilePath/%EC%98%A4%EC%88%98%EC%9D%98%EA%B2%AC%20%282%29.jpg\n",
      "http://commons.wikimedia.org/wiki/Special:FilePath/Endal%20Dickin.jpg                               \n",
      "Image téléchargée avec succès : http://commons.wikimedia.org/wiki/Special:FilePath/Endal%20Dickin.jpg                               \n",
      "http://commons.wikimedia.org/wiki/Special:FilePath/Gabi.jpg                                         \n",
      "Image téléchargée avec succès : http://commons.wikimedia.org/wiki/Special:FilePath/Gabi.jpg                                         \n",
      "http://commons.wikimedia.org/wiki/Special:FilePath/Gunner%20%28dog%29.jpg                           \n",
      "Image téléchargée avec succès : http://commons.wikimedia.org/wiki/Special:FilePath/Gunner%20%28dog%29.jpg                           \n",
      "http://commons.wikimedia.org/wiki/Special:FilePath/Faultless.jpg                                    \n",
      "Image téléchargée avec succès : http://commons.wikimedia.org/wiki/Special:FilePath/Faultless.jpg                                    \n",
      "http://commons.wikimedia.org/wiki/Special:FilePath/Perro%20Fernando.jpg                             \n",
      "Image téléchargée avec succès : http://commons.wikimedia.org/wiki/Special:FilePath/Perro%20Fernando.jpg                             \n",
      "http://commons.wikimedia.org/wiki/Special:FilePath/Horand%20von%20Grafrath%20SZ1%20aka%20Hektor%20Linksrheim.jpg\n",
      "Image téléchargée avec succès : http://commons.wikimedia.org/wiki/Special:FilePath/Horand%20von%20Grafrath%20SZ1%20aka%20Hektor%20Linksrheim.jpg\n",
      "http://commons.wikimedia.org/wiki/Special:FilePath/Horrie%20Dog.jpg                                 \n",
      "Image téléchargée avec succès : http://commons.wikimedia.org/wiki/Special:FilePath/Horrie%20Dog.jpg                                 \n",
      "http://commons.wikimedia.org/wiki/Special:FilePath/IMG%207373%20%E0%B8%A3%E0%B8%B9%E0%B8%9B%E0%B8%9B%E0%B8%B1%E0%B9%89%E0%B8%99%E0%B8%AA%E0%B8%B8%E0%B8%99%E0%B8%B1%E0%B8%82%E0%B8%97%E0%B8%A3%E0%B8%87%E0%B9%80%E0%B8%A5%E0%B8%B5%E0%B9%89%E0%B8%A2%E0%B8%87%20Dogs%20of%20King%20Rama%209%20Photographed%20by%20Trisorn%20Triboon.jpg\n"
     ]
    },
    {
     "ename": "OSError",
     "evalue": "[Errno 22] Invalid argument: 'images/IMG%207373%20%E0%B8%A3%E0%B8%B9%E0%B8%9B%E0%B8%9B%E0%B8%B1%E0%B9%89%E0%B8%99%E0%B8%AA%E0%B8%B8%E0%B8%99%E0%B8%B1%E0%B8%82%E0%B8%97%E0%B8%A3%E0%B8%87%E0%B9%80%E0%B8%A5%E0%B8%B5%E0%B9%89%E0%B8%A2%E0%B8%87%20Dogs%20of%20King%20Rama%209%20Photographed%20by%20Trisorn%20Triboon.jpg'",
     "output_type": "error",
     "traceback": [
      "\u001b[1;31m---------------------------------------------------------------------------\u001b[0m",
      "\u001b[1;31mOSError\u001b[0m                                   Traceback (most recent call last)",
      "Cell \u001b[1;32mIn[30], line 21\u001b[0m\n\u001b[0;32m     19\u001b[0m \u001b[38;5;28;01mfor\u001b[39;00m index, row \u001b[38;5;129;01min\u001b[39;00m dataframe\u001b[38;5;241m.\u001b[39miterrows():\n\u001b[0;32m     20\u001b[0m     image_url \u001b[38;5;241m=\u001b[39m row[\u001b[38;5;124m'\u001b[39m\u001b[38;5;124mimage\u001b[39m\u001b[38;5;124m'\u001b[39m]\n\u001b[1;32m---> 21\u001b[0m     \u001b[43mdownload_image\u001b[49m\u001b[43m(\u001b[49m\u001b[43mimage_url\u001b[49m\u001b[43m,\u001b[49m\u001b[43m \u001b[49m\u001b[38;5;124;43m'\u001b[39;49m\u001b[38;5;124;43mimages\u001b[39;49m\u001b[38;5;124;43m'\u001b[39;49m\u001b[43m)\u001b[49m\n",
      "Cell \u001b[1;32mIn[30], line 12\u001b[0m, in \u001b[0;36mdownload_image\u001b[1;34m(image_url, output_directory)\u001b[0m\n\u001b[0;32m     10\u001b[0m \u001b[38;5;28;01mif\u001b[39;00m response\u001b[38;5;241m.\u001b[39mstatus_code \u001b[38;5;241m==\u001b[39m \u001b[38;5;241m200\u001b[39m:\n\u001b[0;32m     11\u001b[0m     image_filename \u001b[38;5;241m=\u001b[39m output_directory \u001b[38;5;241m+\u001b[39m \u001b[38;5;124m\"\u001b[39m\u001b[38;5;124m/\u001b[39m\u001b[38;5;124m\"\u001b[39m \u001b[38;5;241m+\u001b[39m os\u001b[38;5;241m.\u001b[39mpath\u001b[38;5;241m.\u001b[39mbasename(image_url)\n\u001b[1;32m---> 12\u001b[0m     \u001b[38;5;28;01mwith\u001b[39;00m \u001b[38;5;28mopen\u001b[39m(image_filename, \u001b[38;5;124m'\u001b[39m\u001b[38;5;124mwb\u001b[39m\u001b[38;5;124m'\u001b[39m) \u001b[38;5;28;01mas\u001b[39;00m f:\n\u001b[0;32m     13\u001b[0m         f\u001b[38;5;241m.\u001b[39mwrite(response\u001b[38;5;241m.\u001b[39mcontent)\n\u001b[0;32m     14\u001b[0m     \u001b[38;5;28mprint\u001b[39m(\u001b[38;5;124mf\u001b[39m\u001b[38;5;124m\"\u001b[39m\u001b[38;5;124mImage téléchargée avec succès : \u001b[39m\u001b[38;5;132;01m{\u001b[39;00mimage_url\u001b[38;5;132;01m}\u001b[39;00m\u001b[38;5;124m\"\u001b[39m)\n",
      "\u001b[1;31mOSError\u001b[0m: [Errno 22] Invalid argument: 'images/IMG%207373%20%E0%B8%A3%E0%B8%B9%E0%B8%9B%E0%B8%9B%E0%B8%B1%E0%B9%89%E0%B8%99%E0%B8%AA%E0%B8%B8%E0%B8%99%E0%B8%B1%E0%B8%82%E0%B8%97%E0%B8%A3%E0%B8%87%E0%B9%80%E0%B8%A5%E0%B8%B5%E0%B9%89%E0%B8%A2%E0%B8%87%20Dogs%20of%20King%20Rama%209%20Photographed%20by%20Trisorn%20Triboon.jpg'"
     ]
    }
   ],
   "source": [
    "import requests\n",
    "import os\n",
    "from builtins import open\n",
    "\n",
    "\n",
    "def download_image(image_url, output_directory):\n",
    "    headers={'User-Agent': 'Mozilla/5.0 (Windows NT 10.0; Win64; x64) AppleWebKit/537.36 (KHTML, like Gecko) Chrome/102.0.0.0 Safari/537.36'}\n",
    "    response = requests.get(image_url, headers=headers)\n",
    "    print(image_url)\n",
    "    if response.status_code == 200:\n",
    "        image_filename = output_directory + \"/\" + os.path.basename(image_url)\n",
    "        try :\n",
    "            with open(image_filename, 'wb') as f:\n",
    "                f.write(response.content)\n",
    "            print(f\"Image téléchargée avec succès : {image_url}\")\n",
    "        except Exception as e :\n",
    "            print(e)\n",
    "    else:\n",
    "        print(f\"Échec du téléchargement. Code d'état HTTP : {response.status_code}\")\n",
    "\n",
    "\n",
    "for index, row in dataframe.iterrows():\n",
    "    image_url = row['image']\n",
    "    download_image(image_url, 'images')"
   ]
  }
 ],
 "metadata": {
  "kernelspec": {
   "display_name": "Python 3",
   "language": "python",
   "name": "python3"
  },
  "language_info": {
   "codemirror_mode": {
    "name": "ipython",
    "version": 3
   },
   "file_extension": ".py",
   "mimetype": "text/x-python",
   "name": "python",
   "nbconvert_exporter": "python",
   "pygments_lexer": "ipython3",
   "version": "3.11.3"
  }
 },
 "nbformat": 4,
 "nbformat_minor": 2
}
